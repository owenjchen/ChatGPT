{
 "cells": [
  {
   "cell_type": "markdown",
   "id": "1fa9d544-3109-44d5-ab90-f3c348f7adfb",
   "metadata": {},
   "source": [
    "# Owen's Code for a directed graph and an undirected graph \n",
    "## Version 2 - using Networkx module"
   ]
  },
  {
   "cell_type": "code",
   "execution_count": 31,
   "id": "eaee5c52-a1a3-4fb9-9b1e-b0a9bf5861f9",
   "metadata": {},
   "outputs": [],
   "source": [
    "import warnings\n",
    "warnings.simplefilter(action='ignore', category=FutureWarning)\n",
    "%matplotlib inline\n",
    "import networkx as nx\n",
    "import numpy as np\n",
    "import matplotlib.pyplot as plt"
   ]
  },
  {
   "cell_type": "code",
   "execution_count": 32,
   "id": "aff563f9-17b9-4859-bb47-625f09d13105",
   "metadata": {},
   "outputs": [],
   "source": [
    "graph = nx.DiGraph()\n",
    "# add the edges to the graph\n",
    "graph.add_edge('a','b')\n",
    "graph.add_edge('a','c')\n",
    "graph.add_edge('a','d')\n",
    "graph.add_edge('b','c')\n",
    "graph.add_edge('b','d')\n",
    "graph.add_edge('c','d')\n",
    "graph.add_edge('c','e')\n",
    "graph.add_edge('d','e')"
   ]
  },
  {
   "cell_type": "code",
   "execution_count": 33,
   "id": "b094e3b1-ec73-4257-8aa3-aaaeac645718",
   "metadata": {},
   "outputs": [
    {
     "data": {
      "text/plain": [
       "['a', 'b', 'c', 'd', 'e']"
      ]
     },
     "execution_count": 33,
     "metadata": {},
     "output_type": "execute_result"
    }
   ],
   "source": [
    "nodes = [node for node in graph.nodes()]\n",
    "nodes"
   ]
  },
  {
   "cell_type": "code",
   "execution_count": 34,
   "id": "d0ef1606-1fbb-4d06-986d-cf03000f9cf6",
   "metadata": {},
   "outputs": [
    {
     "data": {
      "text/plain": [
       "[('a', 'b'),\n",
       " ('a', 'c'),\n",
       " ('a', 'd'),\n",
       " ('b', 'c'),\n",
       " ('b', 'd'),\n",
       " ('c', 'd'),\n",
       " ('c', 'e'),\n",
       " ('d', 'e')]"
      ]
     },
     "execution_count": 34,
     "metadata": {},
     "output_type": "execute_result"
    }
   ],
   "source": [
    "edges = [edge for edge in graph.edges()]\n",
    "edges"
   ]
  },
  {
   "cell_type": "code",
   "execution_count": 35,
   "id": "a37d5bed-7660-4835-af1d-89a1bb923b44",
   "metadata": {},
   "outputs": [
    {
     "name": "stdout",
     "output_type": "stream",
     "text": [
      "[[0 1 1 1 0]\n",
      " [0 0 1 1 0]\n",
      " [0 0 0 1 1]\n",
      " [0 0 0 0 1]\n",
      " [0 0 0 0 0]]\n"
     ]
    }
   ],
   "source": [
    "mat = nx.adjacency_matrix(graph, dtype=np.int32)\n",
    "print(mat.todense())"
   ]
  },
  {
   "cell_type": "code",
   "execution_count": 38,
   "id": "5e71be92-37ad-44e2-b0ae-1b3ac0256545",
   "metadata": {},
   "outputs": [
    {
     "data": {
      "text/plain": [
       "[<matplotlib.patches.FancyArrowPatch at 0x7f0e2cb341c0>,\n",
       " <matplotlib.patches.FancyArrowPatch at 0x7f0e2cb34400>,\n",
       " <matplotlib.patches.FancyArrowPatch at 0x7f0e2cb34820>,\n",
       " <matplotlib.patches.FancyArrowPatch at 0x7f0e2cb34a30>,\n",
       " <matplotlib.patches.FancyArrowPatch at 0x7f0e2cb34c70>,\n",
       " <matplotlib.patches.FancyArrowPatch at 0x7f0e2cb34fa0>,\n",
       " <matplotlib.patches.FancyArrowPatch at 0x7f0e2cb3f160>,\n",
       " <matplotlib.patches.FancyArrowPatch at 0x7f0e2cb3f370>]"
      ]
     },
     "execution_count": 38,
     "metadata": {},
     "output_type": "execute_result"
    },
    {
     "data": {
      "image/png": "[encoded data removed]",
      "text/plain": [
       "<Figure size 640x480 with 1 Axes>"
      ]
     },
     "metadata": {},
     "output_type": "display_data"
    }
   ],
   "source": [
    "positions = {\"a\": (0, 0), \"b\": (1, -2), \"c\": (1, 2), \"d\": (2, -2), \"e\":(2,2)}\n",
    "nx.draw_networkx_nodes(graph,pos=positions, node_size=500)\n",
    "nx.draw_networkx_labels(graph, pos=positions, font_color=\"w\")\n",
    "nx.draw_networkx_edges(graph,pos=positions, arrowstyle=\"->\")"
   ]
  },
  {
   "cell_type": "code",
   "execution_count": 39,
   "id": "2b212485-05c6-44f7-84f5-9609f0a269f5",
   "metadata": {},
   "outputs": [
    {
     "name": "stdout",
     "output_type": "stream",
     "text": [
      "No cycle in the directed graph\n"
     ]
    }
   ],
   "source": [
    "if nx.is_directed_acyclic_graph(graph):\n",
    "    print(\"No cycle in the directed graph\")\n",
    "else:\n",
    "    print(\"There are cycle(s) in the directed graph\")"
   ]
  },
  {
   "cell_type": "code",
   "execution_count": 40,
   "id": "b3f569e0-1867-4464-b940-004c760ae538",
   "metadata": {},
   "outputs": [
    {
     "name": "stdout",
     "output_type": "stream",
     "text": [
      "No cycles in the graph\n"
     ]
    }
   ],
   "source": [
    "# Detect cycles in the graph\n",
    "cycles = list(nx.simple_cycles(graph))\n",
    "\n",
    "# Print the cycles in the graph\n",
    "if cycles:\n",
    "    print(\"Cycles in the graph:\")\n",
    "    for cycle in cycles:\n",
    "        print(cycle)\n",
    "else:\n",
    "    print(\"No cycles in the graph\")\n"
   ]
  },
  {
   "cell_type": "code",
   "execution_count": 41,
   "id": "9cbb47a7-8804-44b2-a268-9c6babc9677f",
   "metadata": {},
   "outputs": [],
   "source": [
    "graph.add_edge('e','a')"
   ]
  },
  {
   "cell_type": "code",
   "execution_count": 42,
   "id": "b61c696f-6eda-40df-9278-02138eead334",
   "metadata": {},
   "outputs": [
    {
     "data": {
      "text/plain": [
       "[('a', 'b'),\n",
       " ('a', 'c'),\n",
       " ('a', 'd'),\n",
       " ('b', 'c'),\n",
       " ('b', 'd'),\n",
       " ('c', 'd'),\n",
       " ('c', 'e'),\n",
       " ('d', 'e'),\n",
       " ('e', 'a')]"
      ]
     },
     "execution_count": 42,
     "metadata": {},
     "output_type": "execute_result"
    }
   ],
   "source": [
    "edges = [edge for edge in graph.edges()]\n",
    "edges"
   ]
  },
  {
   "cell_type": "code",
   "execution_count": 43,
   "id": "b4cdf2bf-af9c-4b8a-a5a4-efda43fcfc3f",
   "metadata": {},
   "outputs": [
    {
     "name": "stdout",
     "output_type": "stream",
     "text": [
      "[[0 1 1 1 0]\n",
      " [0 0 1 1 0]\n",
      " [0 0 0 1 1]\n",
      " [0 0 0 0 1]\n",
      " [1 0 0 0 0]]\n"
     ]
    }
   ],
   "source": [
    "mat = nx.adjacency_matrix(graph, dtype=np.int32)\n",
    "print(mat.todense())"
   ]
  },
  {
   "cell_type": "code",
   "execution_count": 44,
   "id": "31329a01-33aa-4fcd-a1fd-586f90f37307",
   "metadata": {},
   "outputs": [
    {
     "data": {
      "text/plain": [
       "[<matplotlib.patches.FancyArrowPatch at 0x7f0e2caae0a0>,\n",
       " <matplotlib.patches.FancyArrowPatch at 0x7f0e2caae2e0>,\n",
       " <matplotlib.patches.FancyArrowPatch at 0x7f0e2caae700>,\n",
       " <matplotlib.patches.FancyArrowPatch at 0x7f0e2cb13b20>,\n",
       " <matplotlib.patches.FancyArrowPatch at 0x7f0e2caaeac0>,\n",
       " <matplotlib.patches.FancyArrowPatch at 0x7f0e2caaed00>,\n",
       " <matplotlib.patches.FancyArrowPatch at 0x7f0e2caaeeb0>,\n",
       " <matplotlib.patches.FancyArrowPatch at 0x7f0e2caba1c0>,\n",
       " <matplotlib.patches.FancyArrowPatch at 0x7f0e2caba400>]"
      ]
     },
     "execution_count": 44,
     "metadata": {},
     "output_type": "execute_result"
    },
    {
     "data": {
      "image/png": "[encoded data removed]",
      "text/plain": [
       "<Figure size 640x480 with 1 Axes>"
      ]
     },
     "metadata": {},
     "output_type": "display_data"
    }
   ],
   "source": [
    "positions = {\"a\": (0, 0), \"b\": (1, -2), \"c\": (1, 2), \"d\": (2, -2), \"e\":(2,2)}\n",
    "nx.draw_networkx_nodes(graph,pos=positions, node_size=500)\n",
    "nx.draw_networkx_labels(graph, pos=positions, font_color=\"w\")\n",
    "nx.draw_networkx_edges(graph,pos=positions, arrowstyle=\"->\")"
   ]
  },
  {
   "cell_type": "code",
   "execution_count": 45,
   "id": "9d5e6b58-e673-4792-82f2-995f19d8ba65",
   "metadata": {},
   "outputs": [
    {
     "name": "stdout",
     "output_type": "stream",
     "text": [
      "There are cycle(s) in the directed graph\n"
     ]
    }
   ],
   "source": [
    "if nx.is_directed_acyclic_graph(graph):\n",
    "    print(\"No cycle in the directed graph\")\n",
    "else:\n",
    "    print(\"There are cycle(s) in the directed graph\")"
   ]
  },
  {
   "cell_type": "code",
   "execution_count": 46,
   "id": "9fb12fc8-5b29-4034-829a-e6022c971bd4",
   "metadata": {},
   "outputs": [
    {
     "name": "stdout",
     "output_type": "stream",
     "text": [
      "Cycles in the graph:\n",
      "['e', 'a', 'd']\n",
      "['e', 'a', 'c']\n",
      "['e', 'a', 'c', 'd']\n",
      "['e', 'a', 'b', 'd']\n",
      "['e', 'a', 'b', 'c']\n",
      "['e', 'a', 'b', 'c', 'd']\n"
     ]
    }
   ],
   "source": [
    "# Detect cycles in the graph\n",
    "cycles = list(nx.simple_cycles(graph))\n",
    "\n",
    "# Print the cycles in the graph\n",
    "if cycles:\n",
    "    print(\"Cycles in the graph:\")\n",
    "    for cycle in cycles:\n",
    "        print(cycle)\n",
    "else:\n",
    "    print(\"No cycles in the graph\")"
   ]
  },
  {
   "cell_type": "markdown",
   "id": "f63ddff5-bc25-46a6-97f5-8b308f018b3e",
   "metadata": {},
   "source": [
    "## Use Networkx graph for ACSL Problems"
   ]
  },
  {
   "cell_type": "markdown",
   "id": "b29a2b5f-9988-41dd-842f-c3dbfbd0f8c2",
   "metadata": {},
   "source": [
    "## ![ACSL 2021-2022 Contest 4 Short Problems -  Junior Division](./img/acsl_2022_contest4_jr.png)\n"
   ]
  },
  {
   "cell_type": "markdown",
   "id": "b87cb5d6-d094-4446-97a7-0bd40d87b6cf",
   "metadata": {},
   "source": [
    "### Problem 1 - Graph Theory\n",
    "Given vertices {A, B, C, D, E} and edges {AE, AB, BD, BA, CD, DC, BE,\n",
    "EC, CA}, how many paths of length 2 are there?"
   ]
  },
  {
   "cell_type": "code",
   "execution_count": 47,
   "id": "7c7d77e3-eb6e-4c06-adda-13dd48d5e4fa",
   "metadata": {},
   "outputs": [],
   "source": [
    "G = nx.DiGraph()\n",
    "G.add_nodes_from(list('ABCDE'))\n",
    "G.add_edges_from([('A', 'E'), \n",
    "                  ('A','B'), \n",
    "                  ('B','D'),\n",
    "                  ('B','A'), \n",
    "                  ('C','D'), \n",
    "                  ('D','C'), \n",
    "                  ('B','E'),\n",
    "                  ('E','C'),\n",
    "                  ('C','A'),\n",
    "                 ])"
   ]
  },
  {
   "cell_type": "code",
   "execution_count": 48,
   "id": "93a522fd-96c7-4a59-b557-0ae06d3b14b8",
   "metadata": {},
   "outputs": [
    {
     "name": "stdout",
     "output_type": "stream",
     "text": [
      "Nodes: ['A', 'B', 'C', 'D', 'E']\n",
      "Edges: [('A', 'E'), ('A', 'B'), ('B', 'D'), ('B', 'A'), ('B', 'E'), ('C', 'D'), ('C', 'A'), ('D', 'C'), ('E', 'C')]\n",
      "Adjacency Matrix: [[0 1 0 0 1]\n",
      " [1 0 0 1 1]\n",
      " [1 0 0 1 0]\n",
      " [0 0 1 0 0]\n",
      " [0 0 1 0 0]]\n",
      "Number of paths of length 2: 15\n"
     ]
    }
   ],
   "source": [
    "nodes = [node for node in G.nodes()]\n",
    "print(\"Nodes:\", nodes)\n",
    "edges =  [edge for edge in G.edges()]\n",
    "print(\"Edges:\", edges)\n",
    "adjmat = np.matrix(nx.adjacency_matrix(G).todense())\n",
    "print(\"Adjacency Matrix:\", adjmat)\n",
    "print(\"Number of paths of length 2:\", np.sum(adjmat**2))"
   ]
  },
  {
   "cell_type": "code",
   "execution_count": null,
   "id": "df907b2b-e2bf-485f-9c48-c72d3701f0ef",
   "metadata": {},
   "outputs": [],
   "source": [
    "## Problem 2 - "
   ]
  },
  {
   "cell_type": "code",
   "execution_count": 20,
   "id": "ff229d65-f784-4045-b3f4-c711c3a611c1",
   "metadata": {},
   "outputs": [
    {
     "name": "stdout",
     "output_type": "stream",
     "text": [
      "Nodes: [0, 1, 2, 3]\n",
      "Edges: [(0, 1), (0, 2), (0, 3), (1, 2), (2, 3), (3, 0)]\n",
      "[[0 1 1 1]\n",
      " [0 0 1 0]\n",
      " [0 0 0 1]\n",
      " [1 0 0 0]]\n"
     ]
    },
    {
     "name": "stderr",
     "output_type": "stream",
     "text": [
      "/tmp/ipykernel_410/1480956184.py:10: FutureWarning: adjacency_matrix will return a scipy.sparse array instead of a matrix in Networkx 3.0.\n",
      "  adjmat = nx.adjacency_matrix(G).todense()\n"
     ]
    }
   ],
   "source": [
    "## Build a directed graph with n nodes using numbers\n",
    "n = 4\n",
    "G = nx.DiGraph()\n",
    "G.add_nodes_from(range(n))\n",
    "G.add_edges_from([(0, 1), (0, 2), (0, 3), (1, 2), (2, 3), (3, 0)])\n",
    "nodes = [node for node in G.nodes()]\n",
    "print(\"Nodes:\", nodes)\n",
    "edges =  [edge for edge in G.edges()]\n",
    "print(\"Edges:\", edges)\n",
    "adjmat = nx.adjacency_matrix(G).todense()\n",
    "print(adjmat)"
   ]
  },
  {
   "cell_type": "markdown",
   "id": "ff134ea2-074e-485e-813d-80348e4d86ef",
   "metadata": {},
   "source": [
    "## Number of Paths of Length 2 in a directed graph"
   ]
  },
  {
   "cell_type": "code",
   "execution_count": 17,
   "id": "8f010413-17e8-413c-8f8b-cdbb1330a45a",
   "metadata": {},
   "outputs": [
    {
     "name": "stderr",
     "output_type": "stream",
     "text": [
      "/tmp/ipykernel_410/2942756520.py:3: FutureWarning: adjacency_matrix will return a scipy.sparse array instead of a matrix in Networkx 3.0.\n",
      "  adjmat= np.matrix(nx.adjacency_matrix(graph))\n"
     ]
    }
   ],
   "source": [
    "# Convert networkx adjacency matrix to np.matrix\n",
    "\n",
    "adjmat= np.matrix(nx.adjacency_matrix(graph))\n"
   ]
  },
  {
   "cell_type": "code",
   "execution_count": null,
   "id": "0fc62e59-2337-49fc-9081-32e1b4eaa1bf",
   "metadata": {},
   "outputs": [],
   "source": []
  }
 ],
 "metadata": {
  "kernelspec": {
   "display_name": "Python 3 (ipykernel)",
   "language": "python",
   "name": "python3"
  },
  "language_info": {
   "codemirror_mode": {
    "name": "ipython",
    "version": 3
   },
   "file_extension": ".py",
   "mimetype": "text/x-python",
   "name": "python",
   "nbconvert_exporter": "python",
   "pygments_lexer": "ipython3",
   "version": "3.9.13"
  }
 },
 "nbformat": 4,
 "nbformat_minor": 5
}
